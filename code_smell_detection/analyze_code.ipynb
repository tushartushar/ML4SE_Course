{
 "cells": [
  {
   "cell_type": "markdown",
   "source": [
    "### Analyze code to detect code smells\n",
    "Ideally, code smells need to be tagged manually to create a proper dataset.\n",
    "However, a shortcut is to use existing tools to come up with a training dataset.\n",
    "We will first use an existing tool DesigniteJava to detect smells and compute metrics.\n",
    "Then, we will use the metrics as features and tool detected smells to prepare our dataset.\n",
    "\n",
    "#### Configure DesigniteJava\n",
    "- First download DesigniteJava.jar (enterprise version) - https://www.designite-tools.com/\n",
    "- Place the downloaded jar file in the `apps/DJ` folder.\n",
    "- If the analyzed repositories have more than 50K LOC, then we will need Academic license of the tool. One can request a free academic license from here - https://www.designite-tools.com/acad-lic-request/\n",
    "- It takes approximately one working day to get an academic license.\n",
    "- Register the license. Refer the tool's commands here - https://www.designite-tools.com/static/docs/index.html"
   ],
   "metadata": {
    "collapsed": false
   }
  },
  {
   "cell_type": "code",
   "execution_count": null,
   "outputs": [],
   "source": [
    "import os\n",
    "import analyze_code\n",
    "\n",
    "for folder in os.listdir('data/repos'):\n",
    "    folder_path = os.path.join('data/repos', folder)\n",
    "    result_path = os.path.join('data/analyzed_repos', folder)\n",
    "    if os.path.isdir(folder_path):\n",
    "        analyze_code.analyze_repo(folder_path, result_path, os.path.abspath('apps/DJ/DesigniteJava.jar'))"
   ],
   "metadata": {
    "collapsed": false
   }
  },
  {
   "cell_type": "code",
   "execution_count": null,
   "outputs": [],
   "source": [],
   "metadata": {
    "collapsed": false
   }
  }
 ],
 "metadata": {
  "kernelspec": {
   "display_name": "Python 3",
   "language": "python",
   "name": "python3"
  },
  "language_info": {
   "codemirror_mode": {
    "name": "ipython",
    "version": 2
   },
   "file_extension": ".py",
   "mimetype": "text/x-python",
   "name": "python",
   "nbconvert_exporter": "python",
   "pygments_lexer": "ipython2",
   "version": "2.7.6"
  }
 },
 "nbformat": 4,
 "nbformat_minor": 0
}
