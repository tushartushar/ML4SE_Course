{
 "cells": [
  {
   "cell_type": "markdown",
   "source": [
    "### Analyze code to detect code smells\n",
    "Ideally, code smells need to be tagged manually to create a proper dataset.\n",
    "However, a shortcut is to use existing tools to come up with a training dataset.\n",
    "We will first use an existing tool DesigniteJava to detect smells and compute metrics.\n",
    "Then, we will use the metrics as features and tool detected smells to prepare our dataset."
   ],
   "metadata": {
    "collapsed": false
   }
  },
  {
   "cell_type": "code",
   "execution_count": null,
   "outputs": [],
   "source": [
    "import os\n",
    "import analyze_code\n",
    "\n",
    "for folder in os.listdir('data/repos'):\n",
    "    folder_path = os.path.join('data/repos', folder)\n",
    "    result_path = os.path.join('data/analyzed_repos', folder)\n",
    "    if os.path.isdir(folder_path):\n",
    "        analyze_code.analyze_repo(folder_path, result_path, os.path.abspath('apps/DJ/DesigniteJava.jar'))"
   ],
   "metadata": {
    "collapsed": false
   }
  }
 ],
 "metadata": {
  "kernelspec": {
   "display_name": "Python 3",
   "language": "python",
   "name": "python3"
  },
  "language_info": {
   "codemirror_mode": {
    "name": "ipython",
    "version": 2
   },
   "file_extension": ".py",
   "mimetype": "text/x-python",
   "name": "python",
   "nbconvert_exporter": "python",
   "pygments_lexer": "ipython2",
   "version": "2.7.6"
  }
 },
 "nbformat": 4,
 "nbformat_minor": 0
}
