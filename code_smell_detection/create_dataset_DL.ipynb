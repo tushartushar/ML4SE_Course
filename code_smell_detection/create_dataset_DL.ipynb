{
 "cells": [
  {
   "cell_type": "code",
   "execution_count": 1,
   "metadata": {
    "collapsed": true
   },
   "outputs": [],
   "source": [
    "import os\n",
    "\n",
    "smell_list = ['InsufficientModularization']\n",
    "smell_str_list = ['Insufficient Modularization']\n",
    "smell_type_list = [\"Design\"]\n",
    "learning_data_folder_path = 'data/smell_dataset'\n",
    "smells_results_folder = 'data/analyzed_repos'\n",
    "code_split_out_folder = 'data/codesplit_class'\n",
    "\n",
    "if not os.path.exists(learning_data_folder_path):\n",
    "    os.makedirs(learning_data_folder_path)"
   ]
  },
  {
   "cell_type": "code",
   "execution_count": 2,
   "outputs": [
    {
     "name": "stdout",
     "output_type": "stream",
     "text": [
      "Generating samples for InsufficientModularization smell...\n",
      "Processing solution: ant-media_ant-media-server\n",
      "Processing file: data/analyzed_repos/ant-media_ant-media-server/DesignSmells.csv\n",
      "Processing solution: google_guava\n",
      "Processing solution: buchen_portfolio\n",
      "Processing file: data/analyzed_repos/buchen_portfolio/DesignSmells.csv\n",
      "Processing solution: spotbugs_spotbugs\n",
      "Processing file: data/analyzed_repos/spotbugs_spotbugs/DesignSmells.csv\n",
      "Processing solution: .DS_Store\n",
      "Processing solution: reactivex_rxjava\n",
      "Processing file: data/analyzed_repos/reactivex_rxjava/DesignSmells.csv\n",
      "Processing solution: alibaba_dragonwell8\n",
      "Processing solution: raphw_byte-buddy\n",
      "Processing file: data/analyzed_repos/raphw_byte-buddy/DesignSmells.csv\n",
      "Processing solution: classgraph_classgraph\n",
      "Processing file: data/analyzed_repos/classgraph_classgraph/DesignSmells.csv\n",
      "Processing solution: minecraftforge_minecraftforge\n",
      "Processing file: data/analyzed_repos/minecraftforge_minecraftforge/DesignSmells.csv\n",
      "Processing solution: teamamaze_amazefilemanager\n",
      "Processing file: data/analyzed_repos/teamamaze_amazefilemanager/DesignSmells.csv\n",
      "Processing solution: traccar_traccar\n",
      "Processing file: data/analyzed_repos/traccar_traccar/DesignSmells.csv\n",
      "Processing solution: zaproxy_zaproxy\n",
      "Processing file: data/analyzed_repos/zaproxy_zaproxy/DesignSmells.csv\n",
      "Processing solution: flowable_flowable-engine\n",
      "Processing solution: vaticle_typedb\n",
      "Processing file: data/analyzed_repos/vaticle_typedb/DesignSmells.csv\n",
      "Processing solution: apache_jmeter\n",
      "Processing file: data/analyzed_repos/apache_jmeter/DesignSmells.csv\n",
      "Processing solution: fishercoder1534_leetcode\n",
      "Processing file: data/analyzed_repos/fishercoder1534_leetcode/DesignSmells.csv\n",
      "Processing solution: libgdx_libgdx\n",
      "Processing file: data/analyzed_repos/libgdx_libgdx/DesignSmells.csv\n",
      "Processing solution: jmonkeyengine_jmonkeyengine\n",
      "Processing file: data/analyzed_repos/jmonkeyengine_jmonkeyengine/DesignSmells.csv\n",
      "Processing solution: spring-projects_spring-batch\n",
      "Processing file: data/analyzed_repos/spring-projects_spring-batch/DesignSmells.csv\n",
      "Processing solution: baomidou_mybatis-plus\n",
      "Processing file: data/analyzed_repos/baomidou_mybatis-plus/DesignSmells.csv\n",
      "Processing solution: corretto_corretto-8\n",
      "Processing solution: junit-team_junit5\n",
      "Processing file: data/analyzed_repos/junit-team_junit5/DesignSmells.csv\n",
      "Processing solution: redisson_redisson\n",
      "Processing file: data/analyzed_repos/redisson_redisson/DesignSmells.csv\n",
      "Processing solution: thymeleaf_thymeleaf\n",
      "Processing file: data/analyzed_repos/thymeleaf_thymeleaf/DesignSmells.csv\n",
      "Processing solution: oracle_visualvm\n",
      "Processing file: data/analyzed_repos/oracle_visualvm/DesignSmells.csv\n",
      "Processing solution: antlr_antlr4\n",
      "Processing file: data/analyzed_repos/antlr_antlr4/DesignSmells.csv\n",
      "Processing solution: google_j2objc\n",
      "Processing solution: mockito_mockito\n",
      "Processing file: data/analyzed_repos/mockito_mockito/DesignSmells.csv\n",
      "Processing solution: movingblocks_terasology\n",
      "Processing file: data/analyzed_repos/movingblocks_terasology/DesignSmells.csv\n",
      "Processing solution: oracle_opengrok\n",
      "Processing file: data/analyzed_repos/oracle_opengrok/DesignSmells.csv\n",
      "Processing solution: alibaba_druid\n"
     ]
    }
   ],
   "source": [
    "from create_dataset import scan_solution\n",
    "\n",
    "for smell in range(len(smell_list)):\n",
    "    print(\"Generating samples for {0} smell...\".format(smell_list[smell]))\n",
    "    positive_cases_folder = os.path.join(learning_data_folder_path, smell_list[smell], \"Positive\")\n",
    "    negative_cases_folder = os.path.join(learning_data_folder_path, smell_list[smell], \"Negative\")\n",
    "\n",
    "    for solution in os.listdir(smells_results_folder):\n",
    "        scan_solution(solution, positive_cases_folder, negative_cases_folder,\n",
    "                       smell_str_list[smell], smell_type_list[smell], smells_results_folder,\n",
    "                       code_split_out_folder)"
   ],
   "metadata": {
    "collapsed": false
   }
  },
  {
   "cell_type": "code",
   "execution_count": null,
   "outputs": [],
   "source": [],
   "metadata": {
    "collapsed": false
   }
  }
 ],
 "metadata": {
  "kernelspec": {
   "display_name": "Python 3",
   "language": "python",
   "name": "python3"
  },
  "language_info": {
   "codemirror_mode": {
    "name": "ipython",
    "version": 2
   },
   "file_extension": ".py",
   "mimetype": "text/x-python",
   "name": "python",
   "nbconvert_exporter": "python",
   "pygments_lexer": "ipython2",
   "version": "2.7.6"
  }
 },
 "nbformat": 4,
 "nbformat_minor": 0
}
