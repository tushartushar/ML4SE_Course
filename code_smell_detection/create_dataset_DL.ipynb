{
 "cells": [
  {
   "cell_type": "code",
   "execution_count": null,
   "metadata": {
    "collapsed": true
   },
   "outputs": [],
   "source": [
    "import os\n",
    "\n",
    "smell_list = ['InsufficientModularization']\n",
    "smell_str_list = ['Insufficient Modularization']\n",
    "smell_type_list = [\"Design\"]\n",
    "learning_data_folder_path = 'data/smell_dataset'\n",
    "smells_results_folder = 'data/analyzed_repos'\n",
    "code_split_out_folder = 'data/codesplit_class'\n",
    "\n",
    "if not os.path.exists(learning_data_folder_path):\n",
    "    os.makedirs(learning_data_folder_path)"
   ]
  },
  {
   "cell_type": "code",
   "execution_count": null,
   "outputs": [],
   "source": [
    "from create_dataset import scan_solution\n",
    "\n",
    "for smell in range(len(smell_list)):\n",
    "    print(\"Generating samples for {0} smell...\".format(smell_list[smell]))\n",
    "    positive_cases_folder = os.path.join(learning_data_folder_path, smell_list[smell], \"Positive\")\n",
    "    negative_cases_folder = os.path.join(learning_data_folder_path, smell_list[smell], \"Negative\")\n",
    "\n",
    "    for solution in os.listdir(smells_results_folder):\n",
    "        scan_solution(solution, positive_cases_folder, negative_cases_folder,\n",
    "                       smell_str_list[smell], smell_type_list[smell], smells_results_folder,\n",
    "                       code_split_out_folder)"
   ],
   "metadata": {
    "collapsed": false
   }
  },
  {
   "cell_type": "code",
   "execution_count": null,
   "outputs": [],
   "source": [],
   "metadata": {
    "collapsed": false
   }
  }
 ],
 "metadata": {
  "kernelspec": {
   "display_name": "Python 3",
   "language": "python",
   "name": "python3"
  },
  "language_info": {
   "codemirror_mode": {
    "name": "ipython",
    "version": 2
   },
   "file_extension": ".py",
   "mimetype": "text/x-python",
   "name": "python",
   "nbconvert_exporter": "python",
   "pygments_lexer": "ipython2",
   "version": "2.7.6"
  }
 },
 "nbformat": 4,
 "nbformat_minor": 0
}
