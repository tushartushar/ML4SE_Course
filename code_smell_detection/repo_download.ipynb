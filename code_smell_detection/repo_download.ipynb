{
 "cells": [
  {
   "cell_type": "markdown",
   "metadata": {},
   "source": [
    "### Identify the repositories to download\n",
    "Use GitHub search (https://seart-ghs.si.usi.ch/)\n",
    "- Min 5000 commits\n",
    "- Min 1 issue\n",
    "- Min 2 contributors\n",
    "- Min 1 PR\n",
    "- Min 2000 stars\n",
    "- Min 10 forks\n",
    "- Java programming language\n",
    "- Last commit at after 1 month ago\n",
    "It resulted in 31 repositories.\n"
   ]
  },
  {
   "cell_type": "code",
   "execution_count": null,
   "metadata": {},
   "outputs": [],
   "source": [
    "with open(\"repos.csv\") as repo_file:\n",
    "    head = [next(repo_file) for x in range(3)]\n",
    "print(head)"
   ]
  },
  {
   "cell_type": "code",
   "execution_count": null,
   "metadata": {},
   "outputs": [],
   "source": [
    "import download\n",
    "import csv\n",
    "\n",
    "with open(\"repos.csv\") as repo_file:\n",
    "    reader = csv.reader(repo_file, delimiter=',')\n",
    "    next(reader)\n",
    "    for line in reader:\n",
    "        download.download_repo(line[0], 'repos')"
   ]
  },
  {
   "cell_type": "code",
   "execution_count": null,
   "metadata": {},
   "outputs": [],
   "source": []
  }
 ],
 "metadata": {
  "kernelspec": {
   "display_name": "Python 3 (ipykernel)",
   "language": "python",
   "name": "python3"
  },
  "language_info": {
   "codemirror_mode": {
    "name": "ipython",
    "version": 3
   },
   "file_extension": ".py",
   "mimetype": "text/x-python",
   "name": "python",
   "nbconvert_exporter": "python",
   "pygments_lexer": "ipython3",
   "version": "3.9.13"
  }
 },
 "nbformat": 4,
 "nbformat_minor": 1
}
