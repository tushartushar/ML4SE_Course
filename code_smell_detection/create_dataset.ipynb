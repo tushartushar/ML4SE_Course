{
 "cells": [
  {
   "cell_type": "markdown",
   "source": [
    "### Create dataset\n",
    "Ideally, code smells need to be tagged manually to create a proper dataset.\n",
    "However, a shortcut is to use existing tools to come up with a training dataset.\n",
    "We will first use an existing tool DesigniteJava to detect smells and compute metrics.\n",
    "Then, we will use the metrics as features and tool detected smells to prepare our dataset."
   ],
   "metadata": {
    "collapsed": false
   }
  },
  {
   "cell_type": "code",
   "execution_count": 3,
   "outputs": [
    {
     "name": "stdout",
     "output_type": "stream",
     "text": [
      "Analyzing repos/ant-media_ant-media-server ...\n",
      "Attempting compilation...\n",
      "Found pom.xml\n",
      "[\u001B[1;34mINFO\u001B[m] Scanning for projects...\n",
      "Downloading from sonatype-releases: https://oss.sonatype.org/content/repositories/releases/io/antmedia/parent/2.6.0-SNAPSHOT/maven-metadata.xml\n",
      "Downloading from sonatype-snapshots: https://oss.sonatype.org/content/repositories/snapshots/io/antmedia/parent/2.6.0-SNAPSHOT/maven-metadata.xml\n",
      "Downloaded from sonatype-snapshots: https://oss.sonatype.org/content/repositories/snapshots/io/antmedia/parent/2.6.0-SNAPSHOT/maven-metadata.xml (771 B at 1.2 kB/s)\n",
      "[\u001B[1;33mWARNING\u001B[m] \n",
      "[\u001B[1;33mWARNING\u001B[m] Some problems were encountered while building the effective model for io.antmedia:ant-media-server:jar:2.6.0-SNAPSHOT\n",
      "[\u001B[1;33mWARNING\u001B[m] 'version' contains an expression but should be a constant. @ io.antmedia:ant-media-server:${project.parent.version}, /Users/Tushar/Dal/Teaching/Applied ML course/ML4SECourse/code_smell_detection/repos/ant-media_ant-media-server/pom.xml, line 13, column 14\n",
      "[\u001B[1;33mWARNING\u001B[m] \n",
      "[\u001B[1;33mWARNING\u001B[m] It is highly recommended to fix these problems because they threaten the stability of your build.\n",
      "[\u001B[1;33mWARNING\u001B[m] \n",
      "[\u001B[1;33mWARNING\u001B[m] For this reason, future Maven versions might no longer support building such malformed projects.\n",
      "[\u001B[1;33mWARNING\u001B[m] \n",
      "[\u001B[1;34mINFO\u001B[m] Inspecting build with total of 1 modules...\n",
      "[\u001B[1;34mINFO\u001B[m] Installing Nexus Staging features:\n",
      "[\u001B[1;34mINFO\u001B[m]   ... total of 1 executions of maven-deploy-plugin replaced with nexus-staging-maven-plugin\n",
      "[\u001B[1;34mINFO\u001B[m] \n",
      "[\u001B[1;34mINFO\u001B[m] \u001B[1m--------------------< \u001B[0;36mio.antmedia:ant-media-server\u001B[0;1m >--------------------\u001B[m\n",
      "[\u001B[1;34mINFO\u001B[m] \u001B[1mBuilding Ant Media Server 2.6.0-SNAPSHOT\u001B[m\n",
      "[\u001B[1;34mINFO\u001B[m] \u001B[1m--------------------------------[ jar ]---------------------------------\u001B[m\n",
      "Downloading from sonatype-releases: https://oss.sonatype.org/content/repositories/releases/io/antmedia/ipcamera/onvif/ONVIF/1.1.0-SNAPSHOT/maven-metadata.xml\n",
      "Downloading from sonatype-snapshots: https://oss.sonatype.org/content/repositories/snapshots/io/antmedia/ipcamera/onvif/ONVIF/1.1.0-SNAPSHOT/maven-metadata.xml\n",
      "Downloaded from sonatype-snapshots: https://oss.sonatype.org/content/repositories/snapshots/io/antmedia/ipcamera/onvif/ONVIF/1.1.0-SNAPSHOT/maven-metadata.xml (1.6 kB at 17 kB/s)\n",
      "Downloading from sonatype-snapshots: https://oss.sonatype.org/content/repositories/snapshots/io/antmedia/parent/2.4.2-SNAPSHOT/maven-metadata.xml\n",
      "Downloading from sonatype-releases: https://oss.sonatype.org/content/repositories/releases/io/antmedia/parent/2.4.2-SNAPSHOT/maven-metadata.xml\n",
      "Downloaded from sonatype-snapshots: https://oss.sonatype.org/content/repositories/snapshots/io/antmedia/parent/2.4.2-SNAPSHOT/maven-metadata.xml (774 B at 9.9 kB/s)\n",
      "Downloading from sonatype-releases: https://oss.sonatype.org/content/repositories/releases/dev/morphia/morphia/morphia-core/2.3.0-SNAPSHOT/maven-metadata.xml\n",
      "Downloading from sonatype-snapshots: https://oss.sonatype.org/content/repositories/snapshots/dev/morphia/morphia/morphia-core/2.3.0-SNAPSHOT/maven-metadata.xml\n",
      "Downloaded from sonatype-snapshots: https://oss.sonatype.org/content/repositories/snapshots/dev/morphia/morphia/morphia-core/2.3.0-SNAPSHOT/maven-metadata.xml (2.4 kB at 27 kB/s)\n",
      "Downloading from sonatype-snapshots: https://oss.sonatype.org/content/repositories/snapshots/dev/morphia/morphia/morphia/2.3.0-SNAPSHOT/maven-metadata.xml\n",
      "Downloading from sonatype-releases: https://oss.sonatype.org/content/repositories/releases/dev/morphia/morphia/morphia/2.3.0-SNAPSHOT/maven-metadata.xml\n",
      "Downloaded from sonatype-snapshots: https://oss.sonatype.org/content/repositories/snapshots/dev/morphia/morphia/morphia/2.3.0-SNAPSHOT/maven-metadata.xml (786 B at 10 kB/s)\n",
      "Downloading from sonatype-releases: https://oss.sonatype.org/content/repositories/releases/org/jetbrains/kotlin/kotlin-stdlib/maven-metadata.xml\n",
      "Downloading from central: https://repo.maven.apache.org/maven2/org/jetbrains/kotlin/kotlin-stdlib/maven-metadata.xml\n",
      "Downloading from sonatype-nexus-snapshots: https://oss.sonatype.org/content/repositories/snapshots/org/jetbrains/kotlin/kotlin-stdlib/maven-metadata.xml\n",
      "Downloading from sonatype-snapshots: https://oss.sonatype.org/content/repositories/snapshots/org/jetbrains/kotlin/kotlin-stdlib/maven-metadata.xml\n",
      "Downloaded from sonatype-nexus-snapshots: https://oss.sonatype.org/content/repositories/snapshots/org/jetbrains/kotlin/kotlin-stdlib/maven-metadata.xml (757 B at 11 kB/s)\n",
      "Downloaded from sonatype-snapshots: https://oss.sonatype.org/content/repositories/snapshots/org/jetbrains/kotlin/kotlin-stdlib/maven-metadata.xml (757 B at 4.6 kB/s)\n",
      "Downloaded from central: https://repo.maven.apache.org/maven2/org/jetbrains/kotlin/kotlin-stdlib/maven-metadata.xml (6.8 kB at 26 kB/s)\n",
      "Downloaded from sonatype-releases: https://oss.sonatype.org/content/repositories/releases/org/jetbrains/kotlin/kotlin-stdlib/maven-metadata.xml (6.8 kB at 24 kB/s)\n",
      "Downloading from sonatype-releases: https://oss.sonatype.org/content/repositories/releases/org/eclipse/collections/eclipse-collections-api/maven-metadata.xml\n",
      "Downloading from central: https://repo.maven.apache.org/maven2/org/eclipse/collections/eclipse-collections-api/maven-metadata.xml\n",
      "Downloading from sonatype-snapshots: https://oss.sonatype.org/content/repositories/snapshots/org/eclipse/collections/eclipse-collections-api/maven-metadata.xml\n",
      "Downloading from sonatype-nexus-snapshots: https://oss.sonatype.org/content/repositories/snapshots/org/eclipse/collections/eclipse-collections-api/maven-metadata.xml\n",
      "Downloaded from central: https://repo.maven.apache.org/maven2/org/eclipse/collections/eclipse-collections-api/maven-metadata.xml (1.9 kB at 25 kB/s)\n",
      "Downloaded from sonatype-releases: https://oss.sonatype.org/content/repositories/releases/org/eclipse/collections/eclipse-collections-api/maven-metadata.xml (1.9 kB at 8.2 kB/s)\n",
      "Downloading from central: https://repo.maven.apache.org/maven2/org/eclipse/collections/eclipse-collections/maven-metadata.xml\n",
      "Downloading from sonatype-releases: https://oss.sonatype.org/content/repositories/releases/org/eclipse/collections/eclipse-collections/maven-metadata.xml\n",
      "Downloading from sonatype-snapshots: https://oss.sonatype.org/content/repositories/snapshots/org/eclipse/collections/eclipse-collections/maven-metadata.xml\n",
      "Downloading from sonatype-nexus-snapshots: https://oss.sonatype.org/content/repositories/snapshots/org/eclipse/collections/eclipse-collections/maven-metadata.xml\n",
      "Downloaded from central: https://repo.maven.apache.org/maven2/org/eclipse/collections/eclipse-collections/maven-metadata.xml (1.9 kB at 28 kB/s)\n",
      "Downloaded from sonatype-releases: https://oss.sonatype.org/content/repositories/releases/org/eclipse/collections/eclipse-collections/maven-metadata.xml (1.9 kB at 8.5 kB/s)\n",
      "Downloading from sonatype-snapshots: https://oss.sonatype.org/content/repositories/snapshots/org/eclipse/collections/eclipse-collections-forkjoin/maven-metadata.xml\n",
      "Downloading from central: https://repo.maven.apache.org/maven2/org/eclipse/collections/eclipse-collections-forkjoin/maven-metadata.xml\n",
      "Downloading from sonatype-releases: https://oss.sonatype.org/content/repositories/releases/org/eclipse/collections/eclipse-collections-forkjoin/maven-metadata.xml\n",
      "Downloading from sonatype-nexus-snapshots: https://oss.sonatype.org/content/repositories/snapshots/org/eclipse/collections/eclipse-collections-forkjoin/maven-metadata.xml\n",
      "Downloaded from central: https://repo.maven.apache.org/maven2/org/eclipse/collections/eclipse-collections-forkjoin/maven-metadata.xml (1.9 kB at 27 kB/s)\n",
      "Downloaded from sonatype-releases: https://oss.sonatype.org/content/repositories/releases/org/eclipse/collections/eclipse-collections-forkjoin/maven-metadata.xml (1.9 kB at 5.8 kB/s)\n",
      "Downloading from sonatype-snapshots: https://oss.sonatype.org/content/repositories/snapshots/com/google/guava/guava/maven-metadata.xml\n",
      "Downloading from sonatype-nexus-snapshots: https://oss.sonatype.org/content/repositories/snapshots/com/google/guava/guava/maven-metadata.xml\n",
      "Downloading from sonatype-releases: https://oss.sonatype.org/content/repositories/releases/com/google/guava/guava/maven-metadata.xml\n",
      "Downloading from central: https://repo.maven.apache.org/maven2/com/google/guava/guava/maven-metadata.xml\n",
      "Downloaded from sonatype-nexus-snapshots: https://oss.sonatype.org/content/repositories/snapshots/com/google/guava/guava/maven-metadata.xml (429 B at 6.5 kB/s)\n",
      "Downloaded from central: https://repo.maven.apache.org/maven2/com/google/guava/guava/maven-metadata.xml (4.0 kB at 54 kB/s)\n",
      "Downloaded from sonatype-snapshots: https://oss.sonatype.org/content/repositories/snapshots/com/google/guava/guava/maven-metadata.xml (429 B at 2.7 kB/s)\n",
      "Downloaded from sonatype-releases: https://oss.sonatype.org/content/repositories/releases/com/google/guava/guava/maven-metadata.xml (4.0 kB at 12 kB/s)\n",
      "Downloading from sonatype-snapshots: https://oss.sonatype.org/content/repositories/snapshots/com/google/guava/guava/24.0-SNAPSHOT/maven-metadata.xml\n",
      "Downloading from sonatype-nexus-snapshots: https://oss.sonatype.org/content/repositories/snapshots/com/google/guava/guava/24.0-SNAPSHOT/maven-metadata.xml\n",
      "Downloading from sonatype-releases: https://oss.sonatype.org/content/repositories/releases/com/google/guava/guava/24.0-SNAPSHOT/maven-metadata.xml\n",
      "Downloaded from sonatype-nexus-snapshots: https://oss.sonatype.org/content/repositories/snapshots/com/google/guava/guava/24.0-SNAPSHOT/maven-metadata.xml (1.2 kB at 18 kB/s)\n",
      "Downloaded from sonatype-snapshots: https://oss.sonatype.org/content/repositories/snapshots/com/google/guava/guava/24.0-SNAPSHOT/maven-metadata.xml (1.2 kB at 18 kB/s)\n",
      "Downloading from sonatype-releases: https://oss.sonatype.org/content/repositories/releases/com/google/guava/guava-parent/24.0-SNAPSHOT/maven-metadata.xml\n",
      "Downloading from sonatype-snapshots: https://oss.sonatype.org/content/repositories/snapshots/com/google/guava/guava-parent/24.0-SNAPSHOT/maven-metadata.xml\n",
      "Downloading from sonatype-nexus-snapshots: https://oss.sonatype.org/content/repositories/snapshots/com/google/guava/guava-parent/24.0-SNAPSHOT/maven-metadata.xml\n",
      "Downloaded from sonatype-snapshots: https://oss.sonatype.org/content/repositories/snapshots/com/google/guava/guava-parent/24.0-SNAPSHOT/maven-metadata.xml (605 B at 9.0 kB/s)\n",
      "Downloaded from sonatype-nexus-snapshots: https://oss.sonatype.org/content/repositories/snapshots/com/google/guava/guava-parent/24.0-SNAPSHOT/maven-metadata.xml (605 B at 8.0 kB/s)\n",
      "[\u001B[1;34mINFO\u001B[m] \n",
      "[\u001B[1;34mINFO\u001B[m] \u001B[1m--- \u001B[0;32mmaven-clean-plugin:2.5:clean\u001B[m \u001B[1m(default-clean)\u001B[m @ \u001B[36mant-media-server\u001B[0;1m ---\u001B[m\n",
      "[\u001B[1;34mINFO\u001B[m] Deleting /Users/Tushar/Dal/Teaching/Applied ML course/ML4SECourse/code_smell_detection/repos/ant-media_ant-media-server/target\n",
      "[\u001B[1;34mINFO\u001B[m] \n",
      "[\u001B[1;34mINFO\u001B[m] \u001B[1m--- \u001B[0;32mmaven-resources-plugin:2.6:resources\u001B[m \u001B[1m(default-resources)\u001B[m @ \u001B[36mant-media-server\u001B[0;1m ---\u001B[m\n",
      "[\u001B[1;34mINFO\u001B[m] Using 'UTF-8' encoding to copy filtered resources.\n",
      "[\u001B[1;34mINFO\u001B[m] Copying 2 resources\n",
      "[\u001B[1;34mINFO\u001B[m] Copying 0 resource\n",
      "[\u001B[1;34mINFO\u001B[m] \n",
      "[\u001B[1;34mINFO\u001B[m] \u001B[1m--- \u001B[0;32mmaven-compiler-plugin:3.8.1:compile\u001B[m \u001B[1m(default-compile)\u001B[m @ \u001B[36mant-media-server\u001B[0;1m ---\u001B[m\n",
      "[\u001B[1;34mINFO\u001B[m] Changes detected - recompiling the module!\n",
      "[\u001B[1;34mINFO\u001B[m] Compiling 624 source files to /Users/Tushar/Dal/Teaching/Applied ML course/ML4SECourse/code_smell_detection/repos/ant-media_ant-media-server/target/classes\n"
     ]
    },
    {
     "name": "stderr",
     "output_type": "stream",
     "text": [
      "Destroying 1 processes\n",
      "Destroying process..\n",
      "Destroyed 1 processes\n"
     ]
    },
    {
     "ename": "KeyboardInterrupt",
     "evalue": "",
     "output_type": "error",
     "traceback": [
      "\u001B[0;31m---------------------------------------------------------------------------\u001B[0m",
      "\u001B[0;31mKeyboardInterrupt\u001B[0m                         Traceback (most recent call last)",
      "Cell \u001B[0;32mIn[3], line 8\u001B[0m\n\u001B[1;32m      6\u001B[0m result_path \u001B[38;5;241m=\u001B[39m os\u001B[38;5;241m.\u001B[39mpath\u001B[38;5;241m.\u001B[39mjoin(\u001B[38;5;124m'\u001B[39m\u001B[38;5;124manalyzed_repos\u001B[39m\u001B[38;5;124m'\u001B[39m, folder)\n\u001B[1;32m      7\u001B[0m \u001B[38;5;28;01mif\u001B[39;00m os\u001B[38;5;241m.\u001B[39mpath\u001B[38;5;241m.\u001B[39misdir(folder_path):\n\u001B[0;32m----> 8\u001B[0m     \u001B[43manalyze_code\u001B[49m\u001B[38;5;241;43m.\u001B[39;49m\u001B[43manalyze_repo\u001B[49m\u001B[43m(\u001B[49m\u001B[43mfolder_path\u001B[49m\u001B[43m,\u001B[49m\u001B[43m \u001B[49m\u001B[43mresult_path\u001B[49m\u001B[43m,\u001B[49m\u001B[43m \u001B[49m\u001B[43mos\u001B[49m\u001B[38;5;241;43m.\u001B[39;49m\u001B[43mpath\u001B[49m\u001B[38;5;241;43m.\u001B[39;49m\u001B[43mabspath\u001B[49m\u001B[43m(\u001B[49m\u001B[38;5;124;43m'\u001B[39;49m\u001B[38;5;124;43mDJ/DesigniteJava.jar\u001B[39;49m\u001B[38;5;124;43m'\u001B[39;49m\u001B[43m)\u001B[49m\u001B[43m)\u001B[49m\n",
      "File \u001B[0;32m~/Dal/Teaching/Applied ML course/ML4SECourse/code_smell_detection/analyze_code.py:47\u001B[0m, in \u001B[0;36manalyze_repo\u001B[0;34m(folder_path, result_path, designite_path)\u001B[0m\n\u001B[1;32m     44\u001B[0m \u001B[38;5;28;01mdef\u001B[39;00m \u001B[38;5;21manalyze_repo\u001B[39m(folder_path, result_path, designite_path):\n\u001B[1;32m     45\u001B[0m     \u001B[38;5;28mprint\u001B[39m(\u001B[38;5;124m\"\u001B[39m\u001B[38;5;124mAnalyzing \u001B[39m\u001B[38;5;124m\"\u001B[39m \u001B[38;5;241m+\u001B[39m folder_path \u001B[38;5;241m+\u001B[39m \u001B[38;5;124m\"\u001B[39m\u001B[38;5;124m ...\u001B[39m\u001B[38;5;124m\"\u001B[39m)\n\u001B[0;32m---> 47\u001B[0m     \u001B[43m_build_java_project\u001B[49m\u001B[43m(\u001B[49m\u001B[43mfolder_path\u001B[49m\u001B[43m)\u001B[49m\n\u001B[1;32m     48\u001B[0m     _run_designite_java(folder_path, result_path, designite_path)\n",
      "File \u001B[0;32m~/Dal/Teaching/Applied ML course/ML4SECourse/code_smell_detection/analyze_code.py:16\u001B[0m, in \u001B[0;36m_build_java_project\u001B[0;34m(dir_path)\u001B[0m\n\u001B[1;32m     13\u001B[0m os\u001B[38;5;241m.\u001B[39mchdir(dir_path)\n\u001B[1;32m     14\u001B[0m proc \u001B[38;5;241m=\u001B[39m subprocess\u001B[38;5;241m.\u001B[39mPopen(\n\u001B[1;32m     15\u001B[0m     [\u001B[38;5;124mr\u001B[39m\u001B[38;5;124m'\u001B[39m\u001B[38;5;124mmvn\u001B[39m\u001B[38;5;124m'\u001B[39m, \u001B[38;5;124m'\u001B[39m\u001B[38;5;124mclean\u001B[39m\u001B[38;5;124m'\u001B[39m, \u001B[38;5;124m'\u001B[39m\u001B[38;5;124minstall\u001B[39m\u001B[38;5;124m'\u001B[39m, \u001B[38;5;124m'\u001B[39m\u001B[38;5;124m-DskipTests\u001B[39m\u001B[38;5;124m'\u001B[39m])\n\u001B[0;32m---> 16\u001B[0m \u001B[43mproc\u001B[49m\u001B[38;5;241;43m.\u001B[39;49m\u001B[43mwait\u001B[49m\u001B[43m(\u001B[49m\u001B[43m)\u001B[49m\n\u001B[1;32m     17\u001B[0m is_compiled \u001B[38;5;241m=\u001B[39m \u001B[38;5;28;01mTrue\u001B[39;00m\n\u001B[1;32m     18\u001B[0m os\u001B[38;5;241m.\u001B[39mchdir(orig_path)\n",
      "File \u001B[0;32m/Library/Frameworks/Python.framework/Versions/3.9/lib/python3.9/subprocess.py:1189\u001B[0m, in \u001B[0;36mPopen.wait\u001B[0;34m(self, timeout)\u001B[0m\n\u001B[1;32m   1187\u001B[0m     endtime \u001B[38;5;241m=\u001B[39m _time() \u001B[38;5;241m+\u001B[39m timeout\n\u001B[1;32m   1188\u001B[0m \u001B[38;5;28;01mtry\u001B[39;00m:\n\u001B[0;32m-> 1189\u001B[0m     \u001B[38;5;28;01mreturn\u001B[39;00m \u001B[38;5;28;43mself\u001B[39;49m\u001B[38;5;241;43m.\u001B[39;49m\u001B[43m_wait\u001B[49m\u001B[43m(\u001B[49m\u001B[43mtimeout\u001B[49m\u001B[38;5;241;43m=\u001B[39;49m\u001B[43mtimeout\u001B[49m\u001B[43m)\u001B[49m\n\u001B[1;32m   1190\u001B[0m \u001B[38;5;28;01mexcept\u001B[39;00m \u001B[38;5;167;01mKeyboardInterrupt\u001B[39;00m:\n\u001B[1;32m   1191\u001B[0m     \u001B[38;5;66;03m# https://bugs.python.org/issue25942\u001B[39;00m\n\u001B[1;32m   1192\u001B[0m     \u001B[38;5;66;03m# The first keyboard interrupt waits briefly for the child to\u001B[39;00m\n\u001B[1;32m   1193\u001B[0m     \u001B[38;5;66;03m# exit under the common assumption that it also received the ^C\u001B[39;00m\n\u001B[1;32m   1194\u001B[0m     \u001B[38;5;66;03m# generated SIGINT and will exit rapidly.\u001B[39;00m\n\u001B[1;32m   1195\u001B[0m     \u001B[38;5;28;01mif\u001B[39;00m timeout \u001B[38;5;129;01mis\u001B[39;00m \u001B[38;5;129;01mnot\u001B[39;00m \u001B[38;5;28;01mNone\u001B[39;00m:\n",
      "File \u001B[0;32m/Library/Frameworks/Python.framework/Versions/3.9/lib/python3.9/subprocess.py:1917\u001B[0m, in \u001B[0;36mPopen._wait\u001B[0;34m(self, timeout)\u001B[0m\n\u001B[1;32m   1915\u001B[0m \u001B[38;5;28;01mif\u001B[39;00m \u001B[38;5;28mself\u001B[39m\u001B[38;5;241m.\u001B[39mreturncode \u001B[38;5;129;01mis\u001B[39;00m \u001B[38;5;129;01mnot\u001B[39;00m \u001B[38;5;28;01mNone\u001B[39;00m:\n\u001B[1;32m   1916\u001B[0m     \u001B[38;5;28;01mbreak\u001B[39;00m  \u001B[38;5;66;03m# Another thread waited.\u001B[39;00m\n\u001B[0;32m-> 1917\u001B[0m (pid, sts) \u001B[38;5;241m=\u001B[39m \u001B[38;5;28;43mself\u001B[39;49m\u001B[38;5;241;43m.\u001B[39;49m\u001B[43m_try_wait\u001B[49m\u001B[43m(\u001B[49m\u001B[38;5;241;43m0\u001B[39;49m\u001B[43m)\u001B[49m\n\u001B[1;32m   1918\u001B[0m \u001B[38;5;66;03m# Check the pid and loop as waitpid has been known to\u001B[39;00m\n\u001B[1;32m   1919\u001B[0m \u001B[38;5;66;03m# return 0 even without WNOHANG in odd situations.\u001B[39;00m\n\u001B[1;32m   1920\u001B[0m \u001B[38;5;66;03m# http://bugs.python.org/issue14396.\u001B[39;00m\n\u001B[1;32m   1921\u001B[0m \u001B[38;5;28;01mif\u001B[39;00m pid \u001B[38;5;241m==\u001B[39m \u001B[38;5;28mself\u001B[39m\u001B[38;5;241m.\u001B[39mpid:\n",
      "File \u001B[0;32m/Library/Frameworks/Python.framework/Versions/3.9/lib/python3.9/subprocess.py:1875\u001B[0m, in \u001B[0;36mPopen._try_wait\u001B[0;34m(self, wait_flags)\u001B[0m\n\u001B[1;32m   1873\u001B[0m \u001B[38;5;124;03m\"\"\"All callers to this function MUST hold self._waitpid_lock.\"\"\"\u001B[39;00m\n\u001B[1;32m   1874\u001B[0m \u001B[38;5;28;01mtry\u001B[39;00m:\n\u001B[0;32m-> 1875\u001B[0m     (pid, sts) \u001B[38;5;241m=\u001B[39m \u001B[43mos\u001B[49m\u001B[38;5;241;43m.\u001B[39;49m\u001B[43mwaitpid\u001B[49m\u001B[43m(\u001B[49m\u001B[38;5;28;43mself\u001B[39;49m\u001B[38;5;241;43m.\u001B[39;49m\u001B[43mpid\u001B[49m\u001B[43m,\u001B[49m\u001B[43m \u001B[49m\u001B[43mwait_flags\u001B[49m\u001B[43m)\u001B[49m\n\u001B[1;32m   1876\u001B[0m \u001B[38;5;28;01mexcept\u001B[39;00m \u001B[38;5;167;01mChildProcessError\u001B[39;00m:\n\u001B[1;32m   1877\u001B[0m     \u001B[38;5;66;03m# This happens if SIGCLD is set to be ignored or waiting\u001B[39;00m\n\u001B[1;32m   1878\u001B[0m     \u001B[38;5;66;03m# for child processes has otherwise been disabled for our\u001B[39;00m\n\u001B[1;32m   1879\u001B[0m     \u001B[38;5;66;03m# process.  This child is dead, we can't get the status.\u001B[39;00m\n\u001B[1;32m   1880\u001B[0m     pid \u001B[38;5;241m=\u001B[39m \u001B[38;5;28mself\u001B[39m\u001B[38;5;241m.\u001B[39mpid\n",
      "\u001B[0;31mKeyboardInterrupt\u001B[0m: "
     ]
    }
   ],
   "source": [
    "import os\n",
    "import analyze_code\n",
    "\n",
    "for folder in os.listdir('repos'):\n",
    "    folder_path = os.path.join('repos', folder)\n",
    "    result_path = os.path.join('analyzed_repos', folder)\n",
    "    if os.path.isdir(folder_path):\n",
    "        analyze_code.analyze_repo(folder_path, result_path, os.path.abspath('DJ/DesigniteJava.jar'))"
   ],
   "metadata": {
    "collapsed": false
   }
  },
  {
   "cell_type": "markdown",
   "source": [
    "The tool has analyzed the selected repositories. Now, we need to identify which class has a certain smell (in our case, we are considering 'multifaceted abstraction'). Also, we need to collect the features (code quality metrics in this case) against each class."
   ],
   "metadata": {
    "collapsed": false
   }
  },
  {
   "cell_type": "code",
   "execution_count": 2,
   "outputs": [
    {
     "name": "stdout",
     "output_type": "stream",
     "text": [
      "creating dataset from analyzed_repos/ant-media_ant-media-server ...\n",
      "creating dataset from analyzed_repos/google_guava ...\n",
      "creating dataset from analyzed_repos/buchen_portfolio ...\n",
      "creating dataset from analyzed_repos/spotbugs_spotbugs ...\n",
      "creating dataset from analyzed_repos/.DS_Store ...\n",
      "creating dataset from analyzed_repos/reactivex_rxjava ...\n",
      "creating dataset from analyzed_repos/alibaba_dragonwell8 ...\n",
      "creating dataset from analyzed_repos/raphw_byte-buddy ...\n",
      "creating dataset from analyzed_repos/classgraph_classgraph ...\n",
      "creating dataset from analyzed_repos/minecraftforge_minecraftforge ...\n",
      "creating dataset from analyzed_repos/teamamaze_amazefilemanager ...\n",
      "creating dataset from analyzed_repos/traccar_traccar ...\n",
      "creating dataset from analyzed_repos/zaproxy_zaproxy ...\n",
      "creating dataset from analyzed_repos/flowable_flowable-engine ...\n",
      "creating dataset from analyzed_repos/vaticle_typedb ...\n",
      "creating dataset from analyzed_repos/apache_jmeter ...\n",
      "creating dataset from analyzed_repos/fishercoder1534_leetcode ...\n",
      "creating dataset from analyzed_repos/libgdx_libgdx ...\n",
      "creating dataset from analyzed_repos/jmonkeyengine_jmonkeyengine ...\n",
      "creating dataset from analyzed_repos/spring-projects_spring-batch ...\n",
      "creating dataset from analyzed_repos/baomidou_mybatis-plus ...\n",
      "creating dataset from analyzed_repos/corretto_corretto-8 ...\n",
      "creating dataset from analyzed_repos/junit-team_junit5 ...\n",
      "creating dataset from analyzed_repos/redisson_redisson ...\n",
      "creating dataset from analyzed_repos/thymeleaf_thymeleaf ...\n",
      "creating dataset from analyzed_repos/oracle_visualvm ...\n",
      "creating dataset from analyzed_repos/antlr_antlr4 ...\n",
      "creating dataset from analyzed_repos/google_j2objc ...\n",
      "creating dataset from analyzed_repos/mockito_mockito ...\n",
      "creating dataset from analyzed_repos/movingblocks_terasology ...\n",
      "creating dataset from analyzed_repos/oracle_opengrok ...\n",
      "creating dataset from analyzed_repos/alibaba_druid ...\n",
      "done.\n"
     ]
    }
   ],
   "source": [
    "import analyze_code\n",
    "import os\n",
    "\n",
    "out_file = 'smell_dataset.csv'\n",
    "with open(out_file, \"w\") as file:\n",
    "    file.write(\"Project Name,Package Name,Type Name,NOF,NOPF,NOM,NOPM,LOC,WMC,NC,DIT,LCOM,FANIN,FANOUT,Smell\\n\")\n",
    "for folder in os.listdir('analyzed_repos'):\n",
    "    folder_path = os.path.join('analyzed_repos', folder)\n",
    "    print(f'creating dataset from {folder_path} ...')\n",
    "    type_dict = analyze_code.get_type_dict(folder_path)\n",
    "    smell_dict = analyze_code.get_smell_dict(folder_path, 'Multifaceted Abstraction')\n",
    "    # smell_dict = analyze_code.get_smell_dict(folder_path, 'Insufficient Modularization')\n",
    "    analyze_code.create_dataset(type_dict, smell_dict, out_file)\n",
    "print('done.')"
   ],
   "metadata": {
    "collapsed": false
   }
  },
  {
   "cell_type": "code",
   "execution_count": null,
   "outputs": [],
   "source": [],
   "metadata": {
    "collapsed": false
   }
  }
 ],
 "metadata": {
  "kernelspec": {
   "display_name": "Python 3",
   "language": "python",
   "name": "python3"
  },
  "language_info": {
   "codemirror_mode": {
    "name": "ipython",
    "version": 2
   },
   "file_extension": ".py",
   "mimetype": "text/x-python",
   "name": "python",
   "nbconvert_exporter": "python",
   "pygments_lexer": "ipython2",
   "version": "2.7.6"
  }
 },
 "nbformat": 4,
 "nbformat_minor": 0
}
