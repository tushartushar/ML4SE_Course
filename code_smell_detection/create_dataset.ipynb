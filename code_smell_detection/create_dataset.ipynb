{
 "cells": [
  {
   "cell_type": "markdown",
   "source": [
    "### Create dataset\n",
    "Ideally, code smells need to be tagged manually to create a proper dataset.\n",
    "However, a shortcut is to use existing tools to come up with a training dataset.\n",
    "We will first use an existing tool DesigniteJava to detect smells and compute metrics.\n",
    "Then, we will use the metrics as features and tool detected smells to prepare our dataset."
   ],
   "metadata": {
    "collapsed": false
   }
  },
  {
   "cell_type": "code",
   "execution_count": null,
   "outputs": [],
   "source": [
    "import os\n",
    "import analyze_code\n",
    "\n",
    "for folder in os.listdir('repos'):\n",
    "    folder_path = os.path.join('repos', folder)\n",
    "    result_path = os.path.join('analyzed_repos', folder)\n",
    "    if os.path.isdir(folder_path):\n",
    "        analyze_code.analyze_repo(folder_path, result_path, os.path.abspath('DJ/DesigniteJava.jar'))"
   ],
   "metadata": {
    "collapsed": false
   }
  },
  {
   "cell_type": "markdown",
   "source": [
    "The tool has analyzed the selected repositories. Now, we need to identify which class has a certain smell (in our case, we are considering 'multifaceted abstraction'). Also, we need to collect the features (code quality metrics in this case) against each class."
   ],
   "metadata": {
    "collapsed": false
   }
  },
  {
   "cell_type": "code",
   "execution_count": null,
   "outputs": [],
   "source": [
    "import analyze_code\n",
    "import os\n",
    "\n",
    "out_file = 'smell_dataset.csv'\n",
    "with open(out_file, \"w\") as file:\n",
    "    file.write(\"Project Name,Package Name,Type Name,NOF,NOPF,NOM,NOPM,LOC,WMC,NC,DIT,LCOM,FANIN,FANOUT,MA\\n\")\n",
    "for folder in os.listdir('analyzed_repos'):\n",
    "    folder_path = os.path.join('analyzed_repos', folder)\n",
    "    print(f'creating dataset from {folder_path} ...')\n",
    "    type_dict = analyze_code.get_type_dict(folder_path)\n",
    "    smell_dict = analyze_code.get_smell_dict(folder_path, 'Multifaceted Abstraction')\n",
    "    analyze_code.create_dataset(type_dict, smell_dict, out_file)\n",
    "print('done.')"
   ],
   "metadata": {
    "collapsed": false
   }
  },
  {
   "cell_type": "code",
   "execution_count": null,
   "outputs": [],
   "source": [],
   "metadata": {
    "collapsed": false
   }
  }
 ],
 "metadata": {
  "kernelspec": {
   "display_name": "Python 3",
   "language": "python",
   "name": "python3"
  },
  "language_info": {
   "codemirror_mode": {
    "name": "ipython",
    "version": 2
   },
   "file_extension": ".py",
   "mimetype": "text/x-python",
   "name": "python",
   "nbconvert_exporter": "python",
   "pygments_lexer": "ipython2",
   "version": "2.7.6"
  }
 },
 "nbformat": 4,
 "nbformat_minor": 0
}
