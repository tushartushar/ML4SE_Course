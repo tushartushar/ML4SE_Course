{
 "cells": [
  {
   "cell_type": "markdown",
   "source": [
    "### train support vector machine, decision tree, and random forrest\n",
    "This script creates training, validation, and test dataset first. Then it uses a few ML models (SVM, DT, and RF) to classify the samples."
   ],
   "metadata": {
    "collapsed": false
   }
  },
  {
   "cell_type": "code",
   "execution_count": null,
   "outputs": [],
   "source": [
    "import numpy as np\n",
    "from numpy import genfromtxt\n",
    "my_data = genfromtxt('data/smell_dataset.csv', delimiter=',')"
   ],
   "metadata": {
    "collapsed": false
   }
  },
  {
   "cell_type": "code",
   "execution_count": null,
   "outputs": [],
   "source": [
    "X = my_data[1:,3:14]\n",
    "# X = my_data[1:,[11]]\n",
    "Y = my_data[1:,14:]"
   ],
   "metadata": {
    "collapsed": false
   }
  },
  {
   "cell_type": "code",
   "execution_count": null,
   "outputs": [],
   "source": [
    "from sklearn.model_selection import StratifiedShuffleSplit\n",
    "\n",
    "def get_data(X, Y):\n",
    "    sss = StratifiedShuffleSplit(n_splits=1, test_size=0.3, random_state=0)\n",
    "    for train_index, test_index in sss.split(X, Y):\n",
    "        x_train, x_test = X[train_index], X[test_index]\n",
    "        y_train, y_test = Y[train_index], Y[test_index]\n",
    "        return x_train, y_train, x_test, y_test"
   ],
   "metadata": {
    "collapsed": false
   }
  },
  {
   "cell_type": "code",
   "execution_count": null,
   "outputs": [],
   "source": [
    "from sklearn.utils import resample, shuffle\n",
    "\n",
    "\n",
    "def balance_dataset(x, y):\n",
    "        x_benign = x[ (y.ravel()==0)]\n",
    "        x_smelly = x[ (y.ravel()==1)]\n",
    "        x_downsampled = resample(x_benign, replace=False, n_samples=len(x_smelly), random_state=145)\n",
    "        x_balanced = np.concatenate((x_smelly, x_downsampled))\n",
    "        y_balanced = np.empty(shape=[len(x_balanced)], dtype=np.int16)\n",
    "        y_balanced[0:len(x_smelly)] = 1.0\n",
    "        y_balanced[len(x_smelly):] = 0.0\n",
    "        x_balanced, y_balanced = shuffle(x_balanced, y_balanced)\n",
    "        return x_balanced, y_balanced\n",
    "\n",
    "def get_balanced_training_data(X, Y):\n",
    "    sss = StratifiedShuffleSplit(n_splits=1, test_size=0.3, random_state=0)\n",
    "    for train_index, test_index in sss.split(X, Y):\n",
    "        x_train, x_test = X[train_index], X[test_index]\n",
    "        y_train, y_test = Y[train_index], Y[test_index]\n",
    "        x_train, y_train = balance_dataset(x_train, y_train)\n",
    "        # x_test, y_test = balance_dataset(x_test, y_test)\n",
    "        return x_train, y_train, x_test, y_test"
   ],
   "metadata": {
    "collapsed": false
   }
  },
  {
   "cell_type": "code",
   "execution_count": null,
   "outputs": [],
   "source": [
    "from sklearn.metrics import confusion_matrix\n",
    "\n",
    "def compute_accuracy(y_test, y_pred):\n",
    "    cm = confusion_matrix(y_test,y_pred)\n",
    "    accuracy = float(cm.diagonal().sum())/len(y_test)\n",
    "    print(\"\\nModel accuracy: \", accuracy)"
   ],
   "metadata": {
    "collapsed": false
   }
  },
  {
   "cell_type": "code",
   "execution_count": null,
   "outputs": [],
   "source": [
    "from sklearn.metrics import recall_score, precision_score\n",
    "\n",
    "def compute_precision_recall(y_test, y_pred):\n",
    "    recall = recall_score(y_test, y_pred)\n",
    "    precision = precision_score(y_test, y_pred)\n",
    "    print (f\"precision: {precision}, recall: {recall}\")"
   ],
   "metadata": {
    "collapsed": false
   }
  },
  {
   "cell_type": "code",
   "execution_count": null,
   "outputs": [],
   "source": [
    "from sklearn.svm import SVC\n",
    "\n",
    "def svm(x_train, y_train, x_test, y_test):\n",
    "    classifier = SVC(kernel='rbf', random_state = 1)\n",
    "    classifier.fit(x_train,y_train.ravel())\n",
    "    y_pred = classifier.predict(x_test)\n",
    "    compute_accuracy(y_test, y_pred)\n",
    "    compute_precision_recall(y_test, y_pred)"
   ],
   "metadata": {
    "collapsed": false
   }
  },
  {
   "cell_type": "code",
   "execution_count": null,
   "outputs": [],
   "source": [
    "from sklearn.tree import DecisionTreeClassifier\n",
    "\n",
    "def decision_tree(x_train, y_train, x_test, y_test):\n",
    "    clf = DecisionTreeClassifier()\n",
    "    clf = clf.fit(x_train,y_train)\n",
    "    y_pred= clf.predict(x_test)\n",
    "    compute_accuracy(y_test, y_pred)\n",
    "    compute_precision_recall(y_test, y_pred)"
   ],
   "metadata": {
    "collapsed": false
   }
  },
  {
   "cell_type": "code",
   "execution_count": null,
   "outputs": [],
   "source": [
    "from sklearn.ensemble import RandomForestClassifier\n",
    "\n",
    "def random_forrest(x_train, y_train, x_test, y_test):\n",
    "    clf=RandomForestClassifier(n_estimators=100)\n",
    "    clf.fit(x_train,y_train)\n",
    "    y_pred=clf.predict(x_test)\n",
    "    compute_accuracy(y_test, y_pred)\n",
    "    compute_precision_recall(y_test, y_pred)"
   ],
   "metadata": {
    "collapsed": false
   }
  },
  {
   "cell_type": "code",
   "execution_count": null,
   "outputs": [],
   "source": [
    "x_train, y_train, x_test, y_test = get_balanced_training_data(X, Y)"
   ],
   "metadata": {
    "collapsed": false
   }
  },
  {
   "cell_type": "code",
   "execution_count": null,
   "outputs": [],
   "source": [
    "svm(x_train, y_train, x_test, y_test)"
   ],
   "metadata": {
    "collapsed": false
   }
  },
  {
   "cell_type": "code",
   "execution_count": null,
   "outputs": [],
   "source": [
    "decision_tree(x_train, y_train, x_test, y_test)"
   ],
   "metadata": {
    "collapsed": false
   }
  },
  {
   "cell_type": "code",
   "execution_count": null,
   "outputs": [],
   "source": [
    "random_forrest(x_train, y_train, x_test, y_test)"
   ],
   "metadata": {
    "collapsed": false
   }
  },
  {
   "cell_type": "code",
   "execution_count": null,
   "outputs": [],
   "source": [],
   "metadata": {
    "collapsed": false
   }
  }
 ],
 "metadata": {
  "kernelspec": {
   "display_name": "Python 3",
   "language": "python",
   "name": "python3"
  },
  "language_info": {
   "codemirror_mode": {
    "name": "ipython",
    "version": 2
   },
   "file_extension": ".py",
   "mimetype": "text/x-python",
   "name": "python",
   "nbconvert_exporter": "python",
   "pygments_lexer": "ipython2",
   "version": "2.7.6"
  }
 },
 "nbformat": 4,
 "nbformat_minor": 0
}
